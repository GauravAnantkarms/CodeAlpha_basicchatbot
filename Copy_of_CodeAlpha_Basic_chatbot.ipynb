{
  "cells": [
    {
      "cell_type": "code",
      "execution_count": null,
      "metadata": {
        "colab": {
          "base_uri": "https://localhost:8080/"
        },
        "id": "X9Ja9biMf7Y1",
        "outputId": "0c51165d-f9db-499d-94c7-4a524a926249"
      },
      "outputs": [
        {
          "name": "stderr",
          "output_type": "stream",
          "text": [
            "[nltk_data] Downloading package punkt to /root/nltk_data...\n",
            "[nltk_data]   Package punkt is already up-to-date!\n",
            "[nltk_data] Downloading package wordnet to /root/nltk_data...\n",
            "[nltk_data]   Package wordnet is already up-to-date!\n"
          ]
        },
        {
          "name": "stdout",
          "output_type": "stream",
          "text": [
            "Welcome to Chatty! I'm here to help.\n",
            "You: hello\n",
            "Chatty: Hello! How can I assist you today?\n",
            "You: how are you\n",
            "Chatty: I'm doing well, thanks! How about you?\n",
            "You: what is your name\n",
            "Chatty: My name is Chatty, nice to meet you!\n"
          ]
        }
      ],
      "source": [
        "import nltk\n",
        "from nltk.tokenize import word_tokenize\n",
        "from nltk.stem import WordNetLemmatizer\n",
        "\n",
        "# Download the necessary resources\n",
        "nltk.download('punkt')\n",
        "nltk.download('wordnet')\n",
        "\n",
        "# Initialize the lemmatizer\n",
        "lemmatizer = WordNetLemmatizer()\n",
        "\n",
        "# Define a dictionary to store responses\n",
        "responses = {\n",
        "    'hello': 'Hello! How can I assist you today?',\n",
        "    'hi': 'Hi! What\\'s on your mind?',\n",
        "    'how are you': 'I\\'m doing well, thanks! How about you?',\n",
        "    'what is your name': 'My name is Chatty, nice to meet you!',\n",
        "    'default': 'I didn\\'t understand that. Can you please rephrase?'\n",
        "}\n",
        "\n",
        "def process_input(user_input):\n",
        "    # Tokenize the user input\n",
        "    tokens = word_tokenize(user_input.lower())\n",
        "\n",
        "    # Lemmatize the tokens\n",
        "    lemmas = [lemmatizer.lemmatize(token) for token in tokens]\n",
        "\n",
        "    # Join the lemmas back into a string\n",
        "    input_string = ' '.join(lemmas)\n",
        "\n",
        "    # Check if the input matches a response\n",
        "    for key in responses:\n",
        "        if key in input_string:\n",
        "            return responses[key]\n",
        "\n",
        "    # Return a default response if no match is found\n",
        "    return responses['default']\n",
        "\n",
        "def chatbot():\n",
        "    print('Welcome to Chatty! I\\'m here to help.')\n",
        "    while True:\n",
        "        user_input = input('You: ')\n",
        "        response = process_input(user_input)\n",
        "        print('Chatty:', response)\n",
        "\n",
        "if __name__ == \"__main__\":\n",
        "    chatbot()\n"
      ]
    }
  ],
  "metadata": {
    "colab": {
      "provenance": []
    },
    "kernelspec": {
      "display_name": "Python 3",
      "name": "python3"
    },
    "language_info": {
      "name": "python"
    }
  },
  "nbformat": 4,
  "nbformat_minor": 0
}
